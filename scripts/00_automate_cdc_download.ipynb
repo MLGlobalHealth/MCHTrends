{
 "cells": [
  {
   "cell_type": "markdown",
   "metadata": {},
   "source": [
    "# Automate the Download of CDC WONDER Extractions\n",
    "\n",
    "This script auto-downloads pre-specified (saved) CDC WONDER queries. The links to the queries must be provided in a .txt file called `cdc_wonder_links.txt` in the appropriate data directory, with line breaks between each query. \n",
    "\n",
    "Requires `selenium` and Google Chrome. Tested using MacOS. \n",
    "\n",
    "Adapted from `https://github.com/MD-AHTESHAMUDDIN/CDC-Wonder-API`."
   ]
  },
  {
   "cell_type": "code",
   "execution_count": 1,
   "metadata": {},
   "outputs": [],
   "source": [
    "from selenium import webdriver\n",
    "from selenium.webdriver.support.ui import Select\n",
    "\n",
    "from selenium.webdriver.support.ui import WebDriverWait\n",
    "from selenium.webdriver.support import expected_conditions as EC\n",
    "from selenium.webdriver.common.by import By\n",
    "\n",
    "import time\n",
    "import os\n",
    "\n",
    "cwd = os.getcwd()\n",
    "dir = os.path.dirname(cwd) \n",
    "\n",
    "## PATHS TO SET UP / CHANGE\n",
    "DATA = dir + '/data'\n",
    "PATH_TO_LINKS = f\"{DATA}/cdc_wonder_links2.txt\""
   ]
  },
  {
   "cell_type": "code",
   "execution_count": 4,
   "metadata": {},
   "outputs": [
    {
     "name": "stdout",
     "output_type": "stream",
     "text": [
      "['https://wonder.cdc.gov/controller/saved/D27/D367F062', 'https://wonder.cdc.gov/controller/saved/D66/D367F066', 'https://wonder.cdc.gov/controller/saved/D192/D367F068', 'https://wonder.cdc.gov/controller/saved/D27/D367F063', 'https://wonder.cdc.gov/controller/saved/D66/D367F077', 'https://wonder.cdc.gov/controller/saved/D192/D367F073', 'https://wonder.cdc.gov/controller/saved/D27/D367F064', 'https://wonder.cdc.gov/controller/saved/D66/D367F076', 'https://wonder.cdc.gov/controller/saved/D66/D367F078', 'https://wonder.cdc.gov/controller/saved/D192/D367F072', 'https://wonder.cdc.gov/controller/saved/D27/D367F065', 'https://wonder.cdc.gov/controller/saved/D66/D367F079', 'https://wonder.cdc.gov/controller/saved/D192/D367F071', 'https://wonder.cdc.gov/controller/saved/D10/D349F472', 'https://wonder.cdc.gov/controller/saved/D27/D349F471', 'https://wonder.cdc.gov/controller/saved/D66/D367F061', 'https://wonder.cdc.gov/controller/saved/D192/D367F074', 'https://wonder.cdc.gov/controller/saved/D77/D367F080', 'https://wonder.cdc.gov/controller/saved/D176/D367F081', 'https://wonder.cdc.gov/controller/saved/D176/D367F082', 'https://wonder.cdc.gov/controller/saved/D77/D349F778', 'https://wonder.cdc.gov/controller/saved/D176/D367F099', 'https://wonder.cdc.gov/controller/saved/D176/D367F100', 'https://wonder.cdc.gov/controller/saved/D77/D367F101', 'https://wonder.cdc.gov/controller/saved/D176/D367F102', 'https://wonder.cdc.gov/controller/saved/D176/D367F104', 'https://wonder.cdc.gov/controller/saved/D77/D367F105', 'https://wonder.cdc.gov/controller/saved/D176/D367F106', 'https://wonder.cdc.gov/controller/saved/D176/D367F107', 'https://wonder.cdc.gov/controller/saved/D77/D367F168', 'https://wonder.cdc.gov/controller/saved/D176/D367F169', 'https://wonder.cdc.gov/controller/saved/D176/D367F173', 'https://wonder.cdc.gov/controller/saved/D77/D349F455', 'https://wonder.cdc.gov/controller/saved/D77/D349F456', 'https://wonder.cdc.gov/controller/saved/D77/D367F176', 'https://wonder.cdc.gov/controller/saved/D77/D367F177', 'https://wonder.cdc.gov/controller/saved/D77/D367F958', 'https://wonder.cdc.gov/controller/saved/D77/D349F461', 'https://wonder.cdc.gov/controller/saved/D77/D349F462', 'https://wonder.cdc.gov/controller/saved/D77/D367F180', 'https://wonder.cdc.gov/controller/saved/D77/D367F181', 'https://wonder.cdc.gov/controller/saved/D77/D367F959', 'https://wonder.cdc.gov/controller/saved/D157/D367F926', 'https://wonder.cdc.gov/controller/saved/D157/D367F927', 'https://wonder.cdc.gov/controller/saved/D157/D367F928', 'https://wonder.cdc.gov/controller/saved/D157/D367F930', 'https://wonder.cdc.gov/controller/saved/D176/D367F957', 'https://wonder.cdc.gov/controller/saved/D176/D367F938', 'https://wonder.cdc.gov/controller/saved/D176/D367F939', 'https://wonder.cdc.gov/controller/saved/D176/D367F943', 'https://wonder.cdc.gov/controller/saved/D176/D367F945', 'https://wonder.cdc.gov/controller/saved/D176/D367F956', 'https://wonder.cdc.gov/controller/saved/D176/D367F940', 'https://wonder.cdc.gov/controller/saved/D176/D367F941', 'https://wonder.cdc.gov/controller/saved/D176/D367F944', 'https://wonder.cdc.gov/controller/saved/D176/D367F946', 'https://wonder.cdc.gov/controller/saved/D176/D367F960', 'https://wonder.cdc.gov/controller/saved/D77/D374F019', 'https://wonder.cdc.gov/controller/saved/D77/D374F020', 'https://wonder.cdc.gov/controller/saved/D77/D374F021', 'https://wonder.cdc.gov/controller/saved/D77/D374F024', 'https://wonder.cdc.gov/controller/saved/D77/D374F026', 'https://wonder.cdc.gov/controller/saved/D77/D374F027', 'https://wonder.cdc.gov/controller/saved/D77/D374F030', 'https://wonder.cdc.gov/controller/saved/D77/D374F031', 'https://wonder.cdc.gov/controller/saved/D77/D374F033', 'https://wonder.cdc.gov/controller/saved/D77/D374F034', 'https://wonder.cdc.gov/controller/saved/D157/D374F040', 'https://wonder.cdc.gov/controller/saved/D157/D374F041', 'https://wonder.cdc.gov/controller/saved/D157/D374F042', 'https://wonder.cdc.gov/controller/saved/D157/D374F043', 'https://wonder.cdc.gov/controller/saved/D176/D374F044', 'https://wonder.cdc.gov/controller/saved/D176/D374F045', 'https://wonder.cdc.gov/controller/saved/D176/D374F046', 'https://wonder.cdc.gov/controller/saved/D176/D374F047', 'https://wonder.cdc.gov/controller/saved/D176/D374F048', 'https://wonder.cdc.gov/controller/saved/D176/D374F049', 'https://wonder.cdc.gov/controller/saved/D176/D374F050', 'https://wonder.cdc.gov/controller/saved/D176/D374F051', 'https://wonder.cdc.gov/controller/saved/D176/D374F052', 'https://wonder.cdc.gov/controller/saved/D176/D374F053', 'https://wonder.cdc.gov/controller/saved/D176/D374F054']\n"
     ]
    }
   ],
   "source": [
    "chromeOptions = webdriver.ChromeOptions()\n",
    "prefs = {\"download.default_directory\" : DATA}\n",
    "chromeOptions.add_experimental_option(\"prefs\",prefs)\n",
    "\n",
    "## PATH TO \n",
    "file_path = PATH_TO_LINKS\n",
    "with open(file_path, 'r') as file:\n",
    "    links = file.readlines()\n",
    "    \n",
    "https_links = [link.strip() for link in links if link.strip().startswith('https')]\n",
    "\n",
    "file_path = PATH_TO_LINKS\n",
    "with open(file_path, 'r') as file:\n",
    "    links = file.readlines()\n",
    "\n",
    "https_links = [link.strip() for link in links if link.strip().startswith('https')]\n",
    "\n",
    "for link in https_links:\n",
    "    driver = webdriver.Chrome()\n",
    "    driver.get(link)\n",
    "\n",
    "    time.sleep(5) # Time delay for the web page to load before accessing the frame\n",
    "\n",
    "    # Find and click the \"I Agree\" button\n",
    "    driver.find_element(\"xpath\", \".//input[@name='action-I Agree']\").click()\n",
    "    time.sleep(5) # Time delay for the web page to load before accessing the frame\n",
    "\n",
    "    # Find and click the \"Send\" button -- required if saved at extraction specification\n",
    "    # THE FOLLOWING TWO LINES SHOULD BE DELETED IF THE SAVED LINK IS TABULAR DATA\n",
    "    driver.find_element(\"xpath\", \".//input[@value='Send']\").click()\n",
    "    time.sleep(5) # Time delay for the web page to load before accessing the frame\n",
    "\n",
    "    # Find and click the \"Export\" button\n",
    "    driver.find_element(\"xpath\", \".//input[@value='Export']\").click()\n",
    "\n",
    "    time.sleep(25)\n",
    "\n",
    "    # Close the browser\n",
    "    driver.quit()\n"
   ]
  },
  {
   "cell_type": "code",
   "execution_count": null,
   "metadata": {},
   "outputs": [],
   "source": []
  }
 ],
 "metadata": {
  "kernelspec": {
   "display_name": "Python 3",
   "language": "python",
   "name": "python3"
  },
  "language_info": {
   "codemirror_mode": {
    "name": "ipython",
    "version": 3
   },
   "file_extension": ".py",
   "mimetype": "text/x-python",
   "name": "python",
   "nbconvert_exporter": "python",
   "pygments_lexer": "ipython3",
   "version": "3.10.6"
  }
 },
 "nbformat": 4,
 "nbformat_minor": 2
}
