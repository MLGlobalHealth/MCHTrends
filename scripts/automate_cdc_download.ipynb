{
 "cells": [
  {
   "cell_type": "markdown",
   "metadata": {},
   "source": [
    "# Automate the Download of CDC WONDER Extractions\n",
    "\n",
    "This script auto-downloads pre-specified (saved) CDC WONDER queries. The links to the queries must be provided in a .txt file called `cdc_wonder_links.txt` in the appropriate data directory, with line breaks between each query. \n",
    "\n",
    "Requires `selenium` and Google Chrome. Tested using MacOS. \n",
    "\n",
    "Adapted from `https://github.com/MD-AHTESHAMUDDIN/CDC-Wonder-API`."
   ]
  },
  {
   "cell_type": "code",
   "execution_count": 9,
   "metadata": {},
   "outputs": [],
   "source": [
    "from selenium import webdriver\n",
    "from selenium.webdriver.support.ui import Select\n",
    "\n",
    "from selenium.webdriver.support.ui import WebDriverWait\n",
    "from selenium.webdriver.support import expected_conditions as EC\n",
    "from selenium.webdriver.common.by import By\n",
    "\n",
    "import time\n",
    "import os\n",
    "\n",
    "cwd = os.getcwd()\n",
    "dir = os.path.dirname(cwd) \n",
    "\n",
    "## PATHS TO SET UP / CHANGE\n",
    "DATA = dir + '/data'\n",
    "PATH_TO_LINKS = f\"{DATA}/cdc_wonder_links.txt\""
   ]
  },
  {
   "cell_type": "code",
   "execution_count": 10,
   "metadata": {},
   "outputs": [],
   "source": [
    "chromeOptions = webdriver.ChromeOptions()\n",
    "prefs = {\"download.default_directory\" : DATA}\n",
    "chromeOptions.add_experimental_option(\"prefs\",prefs)\n",
    "\n",
    "## PATH TO \n",
    "file_path = PATH_TO_LINKS\n",
    "with open(file_path, 'r') as file:\n",
    "    links = file.readlines()\n",
    "    \n",
    "https_links = [link.strip() for link in links if link.strip().startswith('https')]\n",
    "print(https_links)\n",
    "\n",
    "file_path = PATH_TO_LINKS\n",
    "with open(file_path, 'r') as file:\n",
    "    links = file.readlines()\n",
    "\n",
    "https_links = [link.strip() for link in links if link.strip().startswith('https')]\n",
    "\n",
    "for link in https_links:\n",
    "    driver = webdriver.Chrome()\n",
    "    driver.get(link)\n",
    "\n",
    "    time.sleep(5) # Time delay for the web page to load before accessing the frame\n",
    "\n",
    "    # Find and click the \"I Agree\" button\n",
    "    driver.find_element(\"xpath\", \".//input[@name='action-I Agree']\").click()\n",
    "    time.sleep(5) # Time delay for the web page to load before accessing the frame\n",
    "\n",
    "    # Find and click the \"Send\" button -- required if saved at extraction specification\n",
    "    # THE FOLLOWING TWO LINES SHOULD BE DELETED IF THE SAVED LINK IS TABULAR DATA\n",
    "    driver.find_element(\"xpath\", \".//input[@value='Send']\").click()\n",
    "    time.sleep(5) # Time delay for the web page to load before accessing the frame\n",
    "\n",
    "    # Find and click the \"Export\" button\n",
    "    driver.find_element(\"xpath\", \".//input[@value='Export']\").click()\n",
    "\n",
    "    time.sleep(25)\n",
    "\n",
    "    # Close the browser\n",
    "    driver.quit()"
   ]
  },
  {
   "cell_type": "code",
   "execution_count": null,
   "metadata": {},
   "outputs": [],
   "source": []
  }
 ],
 "metadata": {
  "kernelspec": {
   "display_name": "Python 3",
   "language": "python",
   "name": "python3"
  },
  "language_info": {
   "codemirror_mode": {
    "name": "ipython",
    "version": 3
   },
   "file_extension": ".py",
   "mimetype": "text/x-python",
   "name": "python",
   "nbconvert_exporter": "python",
   "pygments_lexer": "ipython3",
   "version": "3.10.6"
  }
 },
 "nbformat": 4,
 "nbformat_minor": 2
}
